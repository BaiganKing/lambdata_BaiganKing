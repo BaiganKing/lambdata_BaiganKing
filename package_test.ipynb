{
  "nbformat": 4,
  "nbformat_minor": 0,
  "metadata": {
    "colab": {
      "name": "package_test.ipynb",
      "provenance": [],
      "include_colab_link": true
    },
    "kernelspec": {
      "name": "python3",
      "display_name": "Python 3"
    }
  },
  "cells": [
    {
      "cell_type": "markdown",
      "metadata": {
        "id": "view-in-github",
        "colab_type": "text"
      },
      "source": [
        "<a href=\"https://colab.research.google.com/github/BaiganKing/lambdata_BaiganKing/blob/master/package_test.ipynb\" target=\"_parent\"><img src=\"https://colab.research.google.com/assets/colab-badge.svg\" alt=\"Open In Colab\"/></a>"
      ]
    },
    {
      "cell_type": "code",
      "metadata": {
        "id": "pddp1p3_ZAUB",
        "colab_type": "code",
        "outputId": "8eb63013-5ef9-40ee-de9a-08a478f95950",
        "colab": {
          "base_uri": "https://localhost:8080/",
          "height": 258
        }
      },
      "source": [
        "!pip install -i https://test.pypi.org/simple/ lambdata-baiganking==0.1.4"
      ],
      "execution_count": 2,
      "outputs": [
        {
          "output_type": "stream",
          "text": [
            "Looking in indexes: https://test.pypi.org/simple/\n",
            "Collecting lambdata-baiganking==0.1.4\n",
            "  Downloading https://test-files.pythonhosted.org/packages/b2/a2/43be380f57b7e6fa9adf915622b211d6362f31582d1e00d83a5f34e87863/lambdata_baiganking-0.1.4-py3-none-any.whl\n",
            "Requirement already satisfied: numpy in /usr/local/lib/python3.6/dist-packages (from lambdata-baiganking==0.1.4) (1.17.3)\n",
            "Requirement already satisfied: pandas in /usr/local/lib/python3.6/dist-packages (from lambdata-baiganking==0.1.4) (0.25.2)\n",
            "Requirement already satisfied: python-dateutil>=2.6.1 in /usr/local/lib/python3.6/dist-packages (from pandas->lambdata-baiganking==0.1.4) (2.6.1)\n",
            "Requirement already satisfied: pytz>=2017.2 in /usr/local/lib/python3.6/dist-packages (from pandas->lambdata-baiganking==0.1.4) (2018.9)\n",
            "Requirement already satisfied: six>=1.5 in /usr/local/lib/python3.6/dist-packages (from python-dateutil>=2.6.1->pandas->lambdata-baiganking==0.1.4) (1.12.0)\n",
            "Installing collected packages: lambdata-baiganking\n",
            "  Found existing installation: lambdata-baiganking 0.1.3\n",
            "    Uninstalling lambdata-baiganking-0.1.3:\n",
            "      Successfully uninstalled lambdata-baiganking-0.1.3\n",
            "Successfully installed lambdata-baiganking-0.1.4\n"
          ],
          "name": "stdout"
        }
      ]
    },
    {
      "cell_type": "code",
      "metadata": {
        "id": "obFAiTjEZE8R",
        "colab_type": "code",
        "colab": {}
      },
      "source": [
        "import lambdata_baiganKing as lb\n",
        "from lambdata_baiganKing import df_utils"
      ],
      "execution_count": 0,
      "outputs": []
    },
    {
      "cell_type": "code",
      "metadata": {
        "id": "NMEsRY1PZMkw",
        "colab_type": "code",
        "outputId": "1d4d1987-8cf2-45d4-9cd2-2acb688a4798",
        "colab": {
          "base_uri": "https://localhost:8080/",
          "height": 221
        }
      },
      "source": [
        "dir(df_utils)"
      ],
      "execution_count": 4,
      "outputs": [
        {
          "output_type": "execute_result",
          "data": {
            "text/plain": [
              "['__builtins__',\n",
              " '__cached__',\n",
              " '__doc__',\n",
              " '__file__',\n",
              " '__loader__',\n",
              " '__name__',\n",
              " '__package__',\n",
              " '__spec__',\n",
              " 'date',\n",
              " 'display',\n",
              " 'np',\n",
              " 'pd']"
            ]
          },
          "metadata": {
            "tags": []
          },
          "execution_count": 4
        }
      ]
    },
    {
      "cell_type": "code",
      "metadata": {
        "id": "3mxOJ-72c-xm",
        "colab_type": "code",
        "colab": {}
      },
      "source": [
        ""
      ],
      "execution_count": 0,
      "outputs": []
    }
  ]
}